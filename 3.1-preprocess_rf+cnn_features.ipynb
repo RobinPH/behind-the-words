{
 "cells": [
  {
   "cell_type": "code",
   "execution_count": null,
   "metadata": {},
   "outputs": [],
   "source": [
    "import os\n",
    "from importlib import reload\n",
    "from gensim import models\n",
    "import spacy\n",
    "import language_tool_python\n",
    "from spellchecker import SpellChecker"
   ]
  },
  {
   "cell_type": "code",
   "execution_count": null,
   "metadata": {},
   "outputs": [],
   "source": [
    "BEHIND_THE_WORDS_DIR = \"./\"\n",
    "DATA_DIR = os.path.join(BEHIND_THE_WORDS_DIR, \"data\")\n",
    "USING_GPU = False"
   ]
  },
  {
   "cell_type": "code",
   "execution_count": null,
   "metadata": {},
   "outputs": [],
   "source": [
    "import sys\n",
    "sys.path.append(os.path.join(BEHIND_THE_WORDS_DIR, 'metaphor/'))"
   ]
  },
  {
   "cell_type": "code",
   "execution_count": null,
   "metadata": {},
   "outputs": [],
   "source": [
    "_nlp = spacy.load(\"en_core_web_sm\")\n",
    "_spellchecker = SpellChecker()\n",
    "_language_tool = language_tool_python.LanguageTool('en-US')"
   ]
  },
  {
   "cell_type": "code",
   "execution_count": null,
   "metadata": {},
   "outputs": [],
   "source": [
    "from utils.load_word2vec import load_word2vec\n",
    "\n",
    "w2v_model_path = os.path.join(BEHIND_THE_WORDS_DIR, \"metaphor/data/gensim/word2vec-google-news-300.gz\")\n",
    "word2vec = load_word2vec(w2v_model_path, \"http://127.0.0.1:7070\")"
   ]
  },
  {
   "cell_type": "code",
   "execution_count": null,
   "metadata": {},
   "outputs": [],
   "source": [
    "import metaphor.metaphor_usage as metaphor_usage\n",
    "import metaphor.word2vec as w2v\n",
    "import relevant_features as rf\n",
    "\n",
    "reload(rf)\n",
    "relevant_features = rf.RelevantFeatures(_nlp, _spellchecker, _language_tool)\n",
    "\n",
    "reload(metaphor_usage)\n",
    "MetaphorUsage = metaphor_usage.MetaphorUsage\n",
    "metaphor_usage = MetaphorUsage(relevant_features.get_nlp, USING_GPU)\n",
    "metaphor_usage.load_model(os.path.join(BEHIND_THE_WORDS_DIR, \"metaphor/models/metaphor_usage_model.pt\"))\n",
    "metaphor_usage.load_word2vec(word2vec)\n",
    "\n",
    "relevant_features.set_metaphor_usage_instance(metaphor_usage)"
   ]
  },
  {
   "cell_type": "code",
   "execution_count": null,
   "metadata": {},
   "outputs": [],
   "source": [
    "import loader.JSONLDataloader as JSONLDataloader\n",
    "reload(JSONLDataloader)\n",
    "\n",
    "dataset_jsonl_dataloader = JSONLDataloader.JSONLDataloader(DATA_DIR)"
   ]
  },
  {
   "cell_type": "code",
   "execution_count": null,
   "metadata": {},
   "outputs": [],
   "source": [
    "import preprocessor.RelevantFeaturesPreprocessor as RelevantFeaturesPreprocessor\n",
    "\n",
    "reload(RelevantFeaturesPreprocessor)\n",
    "\n",
    "relevant_features_preprocessor = RelevantFeaturesPreprocessor.RelevantFeaturesPreprocessor(relevant_features, dataset_jsonl_dataloader, _dir = DATA_DIR, in_folders=[\"rf-cnn\"], out_folders=[\"rf-cnn\", \"features\"])"
   ]
  },
  {
   "cell_type": "code",
   "execution_count": null,
   "metadata": {},
   "outputs": [],
   "source": [
    "relevant_features_preprocessor.preprocess(\"essayforum\", take=18000)\n",
    "relevant_features_preprocessor.preprocess(\"own\", take=18000)"
   ]
  }
 ],
 "metadata": {
  "kernelspec": {
   "display_name": "Python 3",
   "language": "python",
   "name": "python3"
  },
  "language_info": {
   "codemirror_mode": {
    "name": "ipython",
    "version": 3
   },
   "file_extension": ".py",
   "mimetype": "text/x-python",
   "name": "python",
   "nbconvert_exporter": "python",
   "pygments_lexer": "ipython3",
   "version": "3.9.10"
  }
 },
 "nbformat": 4,
 "nbformat_minor": 2
}
